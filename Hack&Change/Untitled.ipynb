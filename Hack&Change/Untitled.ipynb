{
 "cells": [
  {
   "cell_type": "code",
   "execution_count": 280,
   "metadata": {},
   "outputs": [
    {
     "name": "stdout",
     "output_type": "stream",
     "text": [
      "Populating the interactive namespace from numpy and matplotlib\n"
     ]
    }
   ],
   "source": [
    "import numpy as np\n",
    "import pandas as pd\n",
    "import matplotlib.pyplot as plt\n",
    "from sklearn.metrics import classification_report\n",
    "from sklearn import model_selection\n",
    "from sklearn.ensemble import RandomForestRegressor\n",
    "from sklearn.model_selection import train_test_split\n",
    "from sklearn.metrics import mean_squared_error\n",
    "\n",
    "from utilities import visualize_classifier\n",
    "%pylab inline"
   ]
  },
  {
   "cell_type": "code",
   "execution_count": 281,
   "metadata": {},
   "outputs": [
    {
     "data": {
      "text/html": [
       "<div>\n",
       "<style scoped>\n",
       "    .dataframe tbody tr th:only-of-type {\n",
       "        vertical-align: middle;\n",
       "    }\n",
       "\n",
       "    .dataframe tbody tr th {\n",
       "        vertical-align: top;\n",
       "    }\n",
       "\n",
       "    .dataframe thead th {\n",
       "        text-align: right;\n",
       "    }\n",
       "</style>\n",
       "<table border=\"1\" class=\"dataframe\">\n",
       "  <thead>\n",
       "    <tr style=\"text-align: right;\">\n",
       "      <th></th>\n",
       "      <th>Unnamed: 0</th>\n",
       "      <th>Postamat_daily</th>\n",
       "      <th>cashbox_daily</th>\n",
       "      <th>hh_500</th>\n",
       "      <th>value1</th>\n",
       "      <th>value2</th>\n",
       "      <th>POPULATION</th>\n",
       "      <th>NEAR_Malls</th>\n",
       "      <th>NEAR_Business_centers</th>\n",
       "      <th>NEAR_metro_rjd</th>\n",
       "      <th>NEAR_Stations</th>\n",
       "      <th>macro_salary_avg_yearly</th>\n",
       "    </tr>\n",
       "  </thead>\n",
       "  <tbody>\n",
       "    <tr>\n",
       "      <td>1</td>\n",
       "      <td>1</td>\n",
       "      <td>0.0</td>\n",
       "      <td>0.0</td>\n",
       "      <td>6369.0</td>\n",
       "      <td>10068</td>\n",
       "      <td>3236</td>\n",
       "      <td>324698</td>\n",
       "      <td>1</td>\n",
       "      <td>1</td>\n",
       "      <td>0.0</td>\n",
       "      <td>1</td>\n",
       "      <td>423321</td>\n",
       "    </tr>\n",
       "    <tr>\n",
       "      <td>5</td>\n",
       "      <td>5</td>\n",
       "      <td>0.0</td>\n",
       "      <td>0.0</td>\n",
       "      <td>5023.0</td>\n",
       "      <td>10100</td>\n",
       "      <td>3484</td>\n",
       "      <td>482873</td>\n",
       "      <td>1</td>\n",
       "      <td>0</td>\n",
       "      <td>0.0</td>\n",
       "      <td>1</td>\n",
       "      <td>387679</td>\n",
       "    </tr>\n",
       "    <tr>\n",
       "      <td>9</td>\n",
       "      <td>9</td>\n",
       "      <td>2.0</td>\n",
       "      <td>0.0</td>\n",
       "      <td>8732.0</td>\n",
       "      <td>10097</td>\n",
       "      <td>3197</td>\n",
       "      <td>482873</td>\n",
       "      <td>0</td>\n",
       "      <td>0</td>\n",
       "      <td>0.0</td>\n",
       "      <td>1</td>\n",
       "      <td>387679</td>\n",
       "    </tr>\n",
       "    <tr>\n",
       "      <td>12</td>\n",
       "      <td>12</td>\n",
       "      <td>0.0</td>\n",
       "      <td>0.0</td>\n",
       "      <td>6686.0</td>\n",
       "      <td>10094</td>\n",
       "      <td>3187</td>\n",
       "      <td>482873</td>\n",
       "      <td>1</td>\n",
       "      <td>0</td>\n",
       "      <td>0.0</td>\n",
       "      <td>1</td>\n",
       "      <td>387679</td>\n",
       "    </tr>\n",
       "    <tr>\n",
       "      <td>14</td>\n",
       "      <td>14</td>\n",
       "      <td>6.0</td>\n",
       "      <td>0.0</td>\n",
       "      <td>4112.0</td>\n",
       "      <td>10100</td>\n",
       "      <td>3475</td>\n",
       "      <td>482873</td>\n",
       "      <td>1</td>\n",
       "      <td>0</td>\n",
       "      <td>0.0</td>\n",
       "      <td>1</td>\n",
       "      <td>387679</td>\n",
       "    </tr>\n",
       "  </tbody>\n",
       "</table>\n",
       "</div>"
      ],
      "text/plain": [
       "    Unnamed: 0  Postamat_daily  cashbox_daily  hh_500  value1  value2  \\\n",
       "1            1             0.0            0.0  6369.0   10068    3236   \n",
       "5            5             0.0            0.0  5023.0   10100    3484   \n",
       "9            9             2.0            0.0  8732.0   10097    3197   \n",
       "12          12             0.0            0.0  6686.0   10094    3187   \n",
       "14          14             6.0            0.0  4112.0   10100    3475   \n",
       "\n",
       "    POPULATION  NEAR_Malls  NEAR_Business_centers  NEAR_metro_rjd  \\\n",
       "1       324698           1                      1             0.0   \n",
       "5       482873           1                      0             0.0   \n",
       "9       482873           0                      0             0.0   \n",
       "12      482873           1                      0             0.0   \n",
       "14      482873           1                      0             0.0   \n",
       "\n",
       "    NEAR_Stations  macro_salary_avg_yearly  \n",
       "1               1                   423321  \n",
       "5               1                   387679  \n",
       "9               1                   387679  \n",
       "12              1                   387679  \n",
       "14              1                   387679  "
      ]
     },
     "execution_count": 281,
     "metadata": {},
     "output_type": "execute_result"
    }
   ],
   "source": [
    "data = pd.read_excel('hackaton_data.xlsx',header=0)\n",
    "data.drop('ADDRESS', axis=1, inplace=True)\n",
    "data.drop('CITY', axis=1, inplace=True)\n",
    "data.drop('REGION', axis=1, inplace=True)\n",
    "data.drop('Postamat_trend', axis=1, inplace=True)\n",
    "data.drop('cashbox_MAX', axis=1, inplace=True)\n",
    "data.drop('cashbox_trend', axis=1, inplace=True)\n",
    "data.fillna(0, inplace=True)\n",
    "data.loc[data.NEAR_Stations!=0, 'NEAR_Stations'] = 1\n",
    "#для предсказания для постамата\n",
    "train_p = data.loc[data.Postamat_daily!=0]\n",
    "predict_p = data.loc[data.Postamat_daily==0]\n",
    "#для предсказания для кассы\n",
    "train_c = data.loc[data.cashbox_daily!=0]\n",
    "predict_c = data.loc[data.cashbox_daily==0]\n",
    "predict_c.head()"
   ]
  },
  {
   "cell_type": "code",
   "execution_count": 282,
   "metadata": {},
   "outputs": [
    {
     "data": {
      "text/html": [
       "<div>\n",
       "<style scoped>\n",
       "    .dataframe tbody tr th:only-of-type {\n",
       "        vertical-align: middle;\n",
       "    }\n",
       "\n",
       "    .dataframe tbody tr th {\n",
       "        vertical-align: top;\n",
       "    }\n",
       "\n",
       "    .dataframe thead th {\n",
       "        text-align: right;\n",
       "    }\n",
       "</style>\n",
       "<table border=\"1\" class=\"dataframe\">\n",
       "  <thead>\n",
       "    <tr style=\"text-align: right;\">\n",
       "      <th></th>\n",
       "      <th>hh_500</th>\n",
       "      <th>value1</th>\n",
       "      <th>value2</th>\n",
       "      <th>POPULATION</th>\n",
       "      <th>NEAR_Malls</th>\n",
       "      <th>NEAR_Business_centers</th>\n",
       "      <th>NEAR_metro_rjd</th>\n",
       "      <th>NEAR_Stations</th>\n",
       "      <th>macro_salary_avg_yearly</th>\n",
       "    </tr>\n",
       "  </thead>\n",
       "  <tbody>\n",
       "    <tr>\n",
       "      <td>1</td>\n",
       "      <td>6369.0</td>\n",
       "      <td>10068</td>\n",
       "      <td>3236</td>\n",
       "      <td>324698</td>\n",
       "      <td>1</td>\n",
       "      <td>1</td>\n",
       "      <td>0.0</td>\n",
       "      <td>1</td>\n",
       "      <td>423321</td>\n",
       "    </tr>\n",
       "    <tr>\n",
       "      <td>5</td>\n",
       "      <td>5023.0</td>\n",
       "      <td>10100</td>\n",
       "      <td>3484</td>\n",
       "      <td>482873</td>\n",
       "      <td>1</td>\n",
       "      <td>0</td>\n",
       "      <td>0.0</td>\n",
       "      <td>1</td>\n",
       "      <td>387679</td>\n",
       "    </tr>\n",
       "    <tr>\n",
       "      <td>9</td>\n",
       "      <td>8732.0</td>\n",
       "      <td>10097</td>\n",
       "      <td>3197</td>\n",
       "      <td>482873</td>\n",
       "      <td>0</td>\n",
       "      <td>0</td>\n",
       "      <td>0.0</td>\n",
       "      <td>1</td>\n",
       "      <td>387679</td>\n",
       "    </tr>\n",
       "    <tr>\n",
       "      <td>12</td>\n",
       "      <td>6686.0</td>\n",
       "      <td>10094</td>\n",
       "      <td>3187</td>\n",
       "      <td>482873</td>\n",
       "      <td>1</td>\n",
       "      <td>0</td>\n",
       "      <td>0.0</td>\n",
       "      <td>1</td>\n",
       "      <td>387679</td>\n",
       "    </tr>\n",
       "    <tr>\n",
       "      <td>14</td>\n",
       "      <td>4112.0</td>\n",
       "      <td>10100</td>\n",
       "      <td>3475</td>\n",
       "      <td>482873</td>\n",
       "      <td>1</td>\n",
       "      <td>0</td>\n",
       "      <td>0.0</td>\n",
       "      <td>1</td>\n",
       "      <td>387679</td>\n",
       "    </tr>\n",
       "    <tr>\n",
       "      <td>16</td>\n",
       "      <td>7339.0</td>\n",
       "      <td>10085</td>\n",
       "      <td>3142</td>\n",
       "      <td>482873</td>\n",
       "      <td>0</td>\n",
       "      <td>0</td>\n",
       "      <td>0.0</td>\n",
       "      <td>1</td>\n",
       "      <td>387679</td>\n",
       "    </tr>\n",
       "    <tr>\n",
       "      <td>17</td>\n",
       "      <td>7552.0</td>\n",
       "      <td>10036</td>\n",
       "      <td>2945</td>\n",
       "      <td>324698</td>\n",
       "      <td>0</td>\n",
       "      <td>1</td>\n",
       "      <td>0.0</td>\n",
       "      <td>0</td>\n",
       "      <td>423321</td>\n",
       "    </tr>\n",
       "    <tr>\n",
       "      <td>18</td>\n",
       "      <td>7054.0</td>\n",
       "      <td>10091</td>\n",
       "      <td>3043</td>\n",
       "      <td>482873</td>\n",
       "      <td>1</td>\n",
       "      <td>0</td>\n",
       "      <td>0.0</td>\n",
       "      <td>0</td>\n",
       "      <td>387679</td>\n",
       "    </tr>\n",
       "    <tr>\n",
       "      <td>19</td>\n",
       "      <td>3773.0</td>\n",
       "      <td>10094</td>\n",
       "      <td>3114</td>\n",
       "      <td>324698</td>\n",
       "      <td>0</td>\n",
       "      <td>1</td>\n",
       "      <td>0.0</td>\n",
       "      <td>1</td>\n",
       "      <td>423321</td>\n",
       "    </tr>\n",
       "    <tr>\n",
       "      <td>20</td>\n",
       "      <td>5082.0</td>\n",
       "      <td>10042</td>\n",
       "      <td>3003</td>\n",
       "      <td>482873</td>\n",
       "      <td>1</td>\n",
       "      <td>1</td>\n",
       "      <td>0.0</td>\n",
       "      <td>1</td>\n",
       "      <td>387679</td>\n",
       "    </tr>\n",
       "  </tbody>\n",
       "</table>\n",
       "</div>"
      ],
      "text/plain": [
       "    hh_500  value1  value2  POPULATION  NEAR_Malls  NEAR_Business_centers  \\\n",
       "1   6369.0   10068    3236      324698           1                      1   \n",
       "5   5023.0   10100    3484      482873           1                      0   \n",
       "9   8732.0   10097    3197      482873           0                      0   \n",
       "12  6686.0   10094    3187      482873           1                      0   \n",
       "14  4112.0   10100    3475      482873           1                      0   \n",
       "16  7339.0   10085    3142      482873           0                      0   \n",
       "17  7552.0   10036    2945      324698           0                      1   \n",
       "18  7054.0   10091    3043      482873           1                      0   \n",
       "19  3773.0   10094    3114      324698           0                      1   \n",
       "20  5082.0   10042    3003      482873           1                      1   \n",
       "\n",
       "    NEAR_metro_rjd  NEAR_Stations  macro_salary_avg_yearly  \n",
       "1              0.0              1                   423321  \n",
       "5              0.0              1                   387679  \n",
       "9              0.0              1                   387679  \n",
       "12             0.0              1                   387679  \n",
       "14             0.0              1                   387679  \n",
       "16             0.0              1                   387679  \n",
       "17             0.0              0                   423321  \n",
       "18             0.0              0                   387679  \n",
       "19             0.0              1                   423321  \n",
       "20             0.0              1                   387679  "
      ]
     },
     "execution_count": 282,
     "metadata": {},
     "output_type": "execute_result"
    }
   ],
   "source": [
    "x_train_p = train_p.iloc[:,3:]\n",
    "x_predict_p = predict_p.iloc[:,3:]\n",
    "y_train_p = train_p['Postamat_daily']\n",
    "\n",
    "x_train_c = train_c.iloc[:,3:]\n",
    "x_predict_c = predict_c.iloc[:,3:]\n",
    "y_train_c = train_c['cashbox_daily']\n",
    "x_predict_c.head(10)"
   ]
  },
  {
   "cell_type": "code",
   "execution_count": 283,
   "metadata": {},
   "outputs": [
    {
     "name": "stderr",
     "output_type": "stream",
     "text": [
      "C:\\Users\\irisc\\Anaconda3\\lib\\site-packages\\sklearn\\ensemble\\forest.py:245: FutureWarning: The default value of n_estimators will change from 10 in version 0.20 to 100 in 0.22.\n",
      "  \"10 in version 0.20 to 100 in 0.22.\", FutureWarning)\n"
     ]
    },
    {
     "data": {
      "text/plain": [
       "RandomForestRegressor(bootstrap=True, criterion='mse', max_depth=None,\n",
       "                      max_features='auto', max_leaf_nodes=None,\n",
       "                      min_impurity_decrease=0.0, min_impurity_split=None,\n",
       "                      min_samples_leaf=1, min_samples_split=2,\n",
       "                      min_weight_fraction_leaf=0.0, n_estimators=10,\n",
       "                      n_jobs=None, oob_score=False, random_state=None,\n",
       "                      verbose=0, warm_start=False)"
      ]
     },
     "execution_count": 283,
     "metadata": {},
     "output_type": "execute_result"
    }
   ],
   "source": [
    "rf = RandomForestRegressor(min_samples_leaf=1)\n",
    "rf.fit(x_train_p, y_train_p)"
   ]
  },
  {
   "cell_type": "code",
   "execution_count": 284,
   "metadata": {},
   "outputs": [
    {
     "data": {
      "text/plain": [
       "0.5085382100797453"
      ]
     },
     "execution_count": 284,
     "metadata": {},
     "output_type": "execute_result"
    }
   ],
   "source": [
    "sqrt(mean_squared_error(rf.predict(x_train_p), y_train_p))"
   ]
  },
  {
   "cell_type": "code",
   "execution_count": 285,
   "metadata": {},
   "outputs": [
    {
     "data": {
      "text/plain": [
       "Text(0, 0.5, 'Estimated quality')"
      ]
     },
     "execution_count": 285,
     "metadata": {},
     "output_type": "execute_result"
    },
    {
     "data": {
      "image/png": "[encoded data removed]",
      "text/plain": [
       "<Figure size 504x504 with 1 Axes>"
      ]
     },
     "metadata": {
      "needs_background": "light"
     },
     "output_type": "display_data"
    }
   ],
   "source": [
    "plt.figure(figsize(7,7))\n",
    "pyplot.scatter(np.array(y_train_p), rf.predict(x_train_p), color=\"red\", alpha=0.5)\n",
    "pyplot.xlim(0,7)\n",
    "pyplot.ylim(0,7)\n",
    "plot(range(11), color='black')\n",
    "grid()\n",
    "pyplot.title('Train set', fontsize=20)\n",
    "pyplot.xlabel('Quality', fontsize=14)\n",
    "pyplot.ylabel('Estimated quality', fontsize=14)"
   ]
  },
  {
   "cell_type": "code",
   "execution_count": 287,
   "metadata": {},
   "outputs": [
    {
     "data": {
      "text/plain": [
       "array([3.3, 3.1, 3.4, 5. , 3.3, 1.9, 5. , 3.1, 3.2, 2.4, 3. , 2.2, 1.8,\n",
       "       2.8, 3. , 2.1, 2.5, 3.3, 2.8, 2.8, 2.9, 3.4, 3.4, 3. , 2.5, 2.8,\n",
       "       2.6, 2.5, 1.8, 2.7, 2.5, 2.3, 1.9, 3.7, 2.2, 2.4, 2. , 3.5, 2.7,\n",
       "       3.1, 1.8, 3.1, 2.3, 2.5, 2.9, 3.3, 2.3, 2. , 2.1, 2.5, 2.5, 2.4,\n",
       "       2.5, 2.8, 2. , 2.4, 2.2, 3.1, 2.8, 3.1, 2. , 2.4, 2.2, 1.9, 2.1,\n",
       "       1.7, 1.9, 2. , 2. , 1.9, 2.2, 2. , 3.3, 2.5, 1.7, 2.4, 2.3, 2.4,\n",
       "       2.2, 2.1, 2. , 1.9, 1.8, 1.9, 2. , 3.3, 1.9, 2.5, 2.3, 1.9, 1.8,\n",
       "       1.6, 1.9, 1.8, 3. , 2.3, 2.1, 2. , 2. , 2.9, 2.4, 2.3, 1.7, 1.9,\n",
       "       2.1, 2.3, 2.3, 2.9, 2.2, 2. , 2.1, 1.9, 2. , 1.9, 2. , 1.9, 1.8,\n",
       "       1.9, 2.2, 1.9, 1.9, 2.1, 2.1, 1.4, 2.4, 2.5, 2.5, 2.3, 2.4, 2.4,\n",
       "       1.8, 2.4, 2.1, 1.9, 1.8, 1.6, 1.1, 1.6, 1.9, 2.1, 2.9, 3.2, 3.1,\n",
       "       2.2, 1.9, 1.8, 1.9, 1.7, 2. , 1.8, 2.7, 1.9, 1.9, 2. , 1.9, 1.9,\n",
       "       1.9, 2. , 1.9, 2.1, 2.2, 2.2, 2.3, 2.1, 2.2, 2. , 2.6, 2.3, 2.9,\n",
       "       2.9, 2.5, 2.3, 2.2, 2. , 2.5, 1.2, 2.4, 1.2, 2.6, 2.3, 2. , 1.8,\n",
       "       1.1, 3.1, 1.4, 1.1, 2. , 2. , 1.9, 2. , 2.1, 2.1, 2.2, 2.1, 2.3,\n",
       "       2. , 1.9, 2.1, 1.9, 1.8, 2.1, 1.8, 1.6, 1.9, 1.8, 2. , 2.1, 2.6,\n",
       "       2.2, 2.6, 1.8, 1.8, 2. , 1.1, 1.2, 3.3, 2.9, 2. , 2. , 2. , 1.9,\n",
       "       2. , 2.3, 2.2, 1.8, 1.7, 1.9, 1.2, 1.5, 2. , 1.7, 1.8, 1.6, 1.4,\n",
       "       1.8, 2.5, 1.1, 1. , 2. , 1.2, 1.2, 1.8, 2.1, 1.5, 1.9, 2.3, 2.3,\n",
       "       2. , 1.7, 2.1, 2. , 1.8, 2.1, 1.7, 2.2, 1.7, 1.2, 2.2, 1.4, 1.4,\n",
       "       2.1, 1.5, 2. , 2.2, 1.9, 1.6, 2. , 2.1, 1.5, 1.6, 2.2, 2.2, 1.4,\n",
       "       2.4, 2.3, 2.1, 2. , 2.1, 1.3, 1.6, 2.1, 1.9, 1. , 1.9, 1.9, 1.4,\n",
       "       1.3, 1.4, 2. , 1.5, 2. , 1.4, 1.6, 1.6, 2. , 1.6, 1.6, 2. , 1.4,\n",
       "       2.1, 1.4, 2. , 1.9, 1.5, 2.2, 2.2, 1.6, 2. , 2. , 1.6, 2.3, 1.2,\n",
       "       2.2, 1.6, 1.7, 1.4, 1.3, 1.4, 1.4, 1.4, 1.3, 1.8, 1.7, 1.6, 1.6,\n",
       "       1.3, 1.6, 1.4, 1.6, 1.8, 1.8, 1.6, 1.5, 1.6, 1.7, 1.6, 1.7, 1.9,\n",
       "       1.9, 1.5, 1.5, 1.7, 1.7, 1.5, 1.9])"
      ]
     },
     "execution_count": 287,
     "metadata": {},
     "output_type": "execute_result"
    }
   ],
   "source": [
    "pred = rf.predict(x_predict_p)\n",
    "pred"
   ]
  },
  {
   "cell_type": "code",
   "execution_count": 296,
   "metadata": {},
   "outputs": [
    {
     "data": {
      "text/html": [
       "<div>\n",
       "<style scoped>\n",
       "    .dataframe tbody tr th:only-of-type {\n",
       "        vertical-align: middle;\n",
       "    }\n",
       "\n",
       "    .dataframe tbody tr th {\n",
       "        vertical-align: top;\n",
       "    }\n",
       "\n",
       "    .dataframe thead th {\n",
       "        text-align: right;\n",
       "    }\n",
       "</style>\n",
       "<table border=\"1\" class=\"dataframe\">\n",
       "  <thead>\n",
       "    <tr style=\"text-align: right;\">\n",
       "      <th></th>\n",
       "      <th>ADDRESS</th>\n",
       "      <th>CITY</th>\n",
       "      <th>REGION</th>\n",
       "    </tr>\n",
       "  </thead>\n",
       "  <tbody>\n",
       "    <tr>\n",
       "      <td>0</td>\n",
       "      <td>г.Калуга, Литейная ул., 25/15</td>\n",
       "      <td>КАЛУГА</td>\n",
       "      <td>Калужская область</td>\n",
       "    </tr>\n",
       "    <tr>\n",
       "      <td>1</td>\n",
       "      <td>г.Калуга, Гагарина ул., 1</td>\n",
       "      <td>КАЛУГА</td>\n",
       "      <td>Калужская область</td>\n",
       "    </tr>\n",
       "    <tr>\n",
       "      <td>2</td>\n",
       "      <td>г.Калуга, Кибальчича ул., 25</td>\n",
       "      <td>КАЛУГА</td>\n",
       "      <td>Калужская область</td>\n",
       "    </tr>\n",
       "    <tr>\n",
       "      <td>5</td>\n",
       "      <td>г.Тула, Кутузова ул., 13</td>\n",
       "      <td>ТУЛА</td>\n",
       "      <td>Тульская область</td>\n",
       "    </tr>\n",
       "    <tr>\n",
       "      <td>6</td>\n",
       "      <td>г.Калуга, Фридриха Энгельса ул., 78А п.1</td>\n",
       "      <td>КАЛУГА</td>\n",
       "      <td>Калужская область</td>\n",
       "    </tr>\n",
       "  </tbody>\n",
       "</table>\n",
       "</div>"
      ],
      "text/plain": [
       "                                    ADDRESS    CITY             REGION\n",
       "0             г.Калуга, Литейная ул., 25/15  КАЛУГА  Калужская область\n",
       "1                 г.Калуга, Гагарина ул., 1  КАЛУГА  Калужская область\n",
       "2              г.Калуга, Кибальчича ул., 25  КАЛУГА  Калужская область\n",
       "5                  г.Тула, Кутузова ул., 13    ТУЛА   Тульская область\n",
       "6  г.Калуга, Фридриха Энгельса ул., 78А п.1  КАЛУГА  Калужская область"
      ]
     },
     "execution_count": 296,
     "metadata": {},
     "output_type": "execute_result"
    }
   ],
   "source": [
    "y_predict_p = np.array(predict_p.iloc[:,0:0])\n",
    "\n",
    "\n",
    "y_predict_data_p = predict_p.iloc[:,0:0]\n",
    "addresses = pd.read_excel('hackaton_data.xlsx',header=0)\n",
    "addresses.fillna(0, inplace=True)\n",
    "addresses_p = addresses.loc[addresses.Postamat_daily==0][['ADDRESS','CITY','REGION']]\n",
    "y_predict_data_p[['ADDRESS','CITY','REGION']] = addresses_p\n",
    "y_predict_data_p.head()"
   ]
  },
  {
   "cell_type": "code",
   "execution_count": 274,
   "metadata": {},
   "outputs": [
    {
     "name": "stderr",
     "output_type": "stream",
     "text": [
      "C:\\Users\\irisc\\Anaconda3\\lib\\site-packages\\sklearn\\ensemble\\forest.py:245: FutureWarning: The default value of n_estimators will change from 10 in version 0.20 to 100 in 0.22.\n",
      "  \"10 in version 0.20 to 100 in 0.22.\", FutureWarning)\n"
     ]
    },
    {
     "data": {
      "text/plain": [
       "0.31571063113930625"
      ]
     },
     "execution_count": 274,
     "metadata": {},
     "output_type": "execute_result"
    }
   ],
   "source": [
    "rf = RandomForestRegressor(min_samples_leaf=1)\n",
    "rf.fit(x_train_c, y_train_c)\n",
    "sqrt(mean_squared_error(rf.predict(x_train_c), y_train_c))"
   ]
  },
  {
   "cell_type": "code",
   "execution_count": 275,
   "metadata": {},
   "outputs": [
    {
     "data": {
      "text/plain": [
       "Text(0, 0.5, 'Estimated quality')"
      ]
     },
     "execution_count": 275,
     "metadata": {},
     "output_type": "execute_result"
    },
    {
     "data": {
      "image/png": "[encoded data removed]",
      "text/plain": [
       "<Figure size 504x504 with 1 Axes>"
      ]
     },
     "metadata": {
      "needs_background": "light"
     },
     "output_type": "display_data"
    }
   ],
   "source": [
    "plt.figure(figsize(7,7))\n",
    "pyplot.scatter(np.array(y_train_c), rf.predict(x_train_c), color=\"red\", alpha=0.5)\n",
    "pyplot.xlim(0,7)\n",
    "pyplot.ylim(0,7)\n",
    "plot(range(11), color='black')\n",
    "grid()\n",
    "pyplot.title('Train set', fontsize=20)\n",
    "pyplot.xlabel('Quality', fontsize=14)\n",
    "pyplot.ylabel('Estimated quality', fontsize=14)"
   ]
  },
  {
   "cell_type": "code",
   "execution_count": 279,
   "metadata": {},
   "outputs": [
    {
     "data": {
      "text/html": [
       "<div>\n",
       "<style scoped>\n",
       "    .dataframe tbody tr th:only-of-type {\n",
       "        vertical-align: middle;\n",
       "    }\n",
       "\n",
       "    .dataframe tbody tr th {\n",
       "        vertical-align: top;\n",
       "    }\n",
       "\n",
       "    .dataframe thead th {\n",
       "        text-align: right;\n",
       "    }\n",
       "</style>\n",
       "<table border=\"1\" class=\"dataframe\">\n",
       "  <thead>\n",
       "    <tr style=\"text-align: right;\">\n",
       "      <th></th>\n",
       "      <th>cashbox_daily</th>\n",
       "      <th>ADDRESS</th>\n",
       "      <th>CITY</th>\n",
       "      <th>REGION</th>\n",
       "    </tr>\n",
       "  </thead>\n",
       "  <tbody>\n",
       "    <tr>\n",
       "      <td>1</td>\n",
       "      <td>3.31</td>\n",
       "      <td>г.Калуга, Гагарина ул., 1</td>\n",
       "      <td>КАЛУГА</td>\n",
       "      <td>Калужская область</td>\n",
       "    </tr>\n",
       "    <tr>\n",
       "      <td>5</td>\n",
       "      <td>1.97</td>\n",
       "      <td>г.Тула, Кутузова ул., 13</td>\n",
       "      <td>ТУЛА</td>\n",
       "      <td>Тульская область</td>\n",
       "    </tr>\n",
       "    <tr>\n",
       "      <td>9</td>\n",
       "      <td>3.12</td>\n",
       "      <td>г.Тула, Марата ул., 31 А</td>\n",
       "      <td>ТУЛА</td>\n",
       "      <td>Тульская область</td>\n",
       "    </tr>\n",
       "    <tr>\n",
       "      <td>12</td>\n",
       "      <td>2.76</td>\n",
       "      <td>г.Тула, Степанова ул., 89 А</td>\n",
       "      <td>ТУЛА</td>\n",
       "      <td>Тульская область</td>\n",
       "    </tr>\n",
       "    <tr>\n",
       "      <td>14</td>\n",
       "      <td>2.93</td>\n",
       "      <td>г.Тула, Кауля ул., 20/109</td>\n",
       "      <td>ТУЛА</td>\n",
       "      <td>Тульская область</td>\n",
       "    </tr>\n",
       "    <tr>\n",
       "      <td>16</td>\n",
       "      <td>1.85</td>\n",
       "      <td>г.Тула, Пузакова ул., 1</td>\n",
       "      <td>ТУЛА</td>\n",
       "      <td>Тульская область</td>\n",
       "    </tr>\n",
       "    <tr>\n",
       "      <td>17</td>\n",
       "      <td>2.19</td>\n",
       "      <td>г.Калуга, Мичурина ул., 11</td>\n",
       "      <td>КАЛУГА</td>\n",
       "      <td>Калужская область</td>\n",
       "    </tr>\n",
       "    <tr>\n",
       "      <td>18</td>\n",
       "      <td>2.11</td>\n",
       "      <td>г.Тула, Октябрьская ул., 81</td>\n",
       "      <td>ТУЛА</td>\n",
       "      <td>Тульская область</td>\n",
       "    </tr>\n",
       "    <tr>\n",
       "      <td>19</td>\n",
       "      <td>1.99</td>\n",
       "      <td>г.Калуга, Пушкина ул., 3 п.68</td>\n",
       "      <td>КАЛУГА</td>\n",
       "      <td>Калужская область</td>\n",
       "    </tr>\n",
       "    <tr>\n",
       "      <td>20</td>\n",
       "      <td>1.40</td>\n",
       "      <td>г.Тула, Болдина ул., 98</td>\n",
       "      <td>ТУЛА</td>\n",
       "      <td>Тульская область</td>\n",
       "    </tr>\n",
       "  </tbody>\n",
       "</table>\n",
       "</div>"
      ],
      "text/plain": [
       "    cashbox_daily                        ADDRESS    CITY             REGION\n",
       "1            3.31      г.Калуга, Гагарина ул., 1  КАЛУГА  Калужская область\n",
       "5            1.97       г.Тула, Кутузова ул., 13    ТУЛА   Тульская область\n",
       "9            3.12       г.Тула, Марата ул., 31 А    ТУЛА   Тульская область\n",
       "12           2.76    г.Тула, Степанова ул., 89 А    ТУЛА   Тульская область\n",
       "14           2.93      г.Тула, Кауля ул., 20/109    ТУЛА   Тульская область\n",
       "16           1.85        г.Тула, Пузакова ул., 1    ТУЛА   Тульская область\n",
       "17           2.19     г.Калуга, Мичурина ул., 11  КАЛУГА  Калужская область\n",
       "18           2.11    г.Тула, Октябрьская ул., 81    ТУЛА   Тульская область\n",
       "19           1.99  г.Калуга, Пушкина ул., 3 п.68  КАЛУГА  Калужская область\n",
       "20           1.40        г.Тула, Болдина ул., 98    ТУЛА   Тульская область"
      ]
     },
     "execution_count": 279,
     "metadata": {},
     "output_type": "execute_result"
    }
   ],
   "source": [
    "y_predict_c = predict_c.iloc[:,0:0]\n",
    "y_predict_c['cashbox_daily'] = pd.DataFrame(rf.predict(x_predict_c))\n",
    "address = pd.read_excel('hackaton_data.xlsx',header=0)\n",
    "address.fillna(0, inplace=True)\n",
    "addresses_c = addresses.loc[address.cashbox_daily==0][['ADDRESS','CITY','REGION']]\n",
    "y_predict_c[['ADDRESS','CITY','REGION']] = addresses_c\n",
    "y_predict_c.head(10)"
   ]
  },
  {
   "cell_type": "code",
   "execution_count": null,
   "metadata": {},
   "outputs": [],
   "source": []
  }
 ],
 "metadata": {
  "kernelspec": {
   "display_name": "Python 3",
   "language": "python",
   "name": "python3"
  },
  "language_info": {
   "codemirror_mode": {
    "name": "ipython",
    "version": 3
   },
   "file_extension": ".py",
   "mimetype": "text/x-python",
   "name": "python",
   "nbconvert_exporter": "python",
   "pygments_lexer": "ipython3",
   "version": "3.7.4"
  }
 },
 "nbformat": 4,
 "nbformat_minor": 2
}
