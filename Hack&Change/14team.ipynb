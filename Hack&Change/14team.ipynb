{
 "cells": [
  {
   "cell_type": "code",
   "execution_count": 299,
   "metadata": {},
   "outputs": [
    {
     "name": "stdout",
     "output_type": "stream",
     "text": [
      "Populating the interactive namespace from numpy and matplotlib\n"
     ]
    }
   ],
   "source": [
    "import numpy as np\n",
    "import pandas as pd\n",
    "import matplotlib.pyplot as plt\n",
    "from sklearn.metrics import classification_report\n",
    "from sklearn import model_selection\n",
    "from sklearn.ensemble import RandomForestRegressor\n",
    "from sklearn.model_selection import train_test_split\n",
    "from sklearn.metrics import mean_squared_error\n",
    "\n",
    "from utilities import visualize_classifier\n",
    "%pylab inline"
   ]
  },
  {
   "cell_type": "code",
   "execution_count": 300,
   "metadata": {},
   "outputs": [],
   "source": [
    "#убираем лишние колонки\n",
    "data = pd.read_excel('hackaton_data.xlsx',header=0)\n",
    "data.drop('Postamat_trend', axis=1, inplace=True)\n",
    "data.drop('cashbox_MAX', axis=1, inplace=True)\n",
    "data.drop('cashbox_trend', axis=1, inplace=True)\n",
    "#заменяем отсутствующие данные на 0\n",
    "data.fillna(0, inplace=True)\n",
    "#если есть рядом станция, то заменяем значение на 1, если нет - на 0\n",
    "data.loc[data.NEAR_Stations!=0, 'NEAR_Stations'] = 1\n",
    "#убираем адрес\n",
    "data.drop('ADDRESS', axis=1, inplace=True)\n",
    "data.drop('CITY', axis=1, inplace=True)\n",
    "data.drop('REGION', axis=1, inplace=True)\n",
    "#для предсказания для кассы\n",
    "train_c = data.loc[data.cashbox_daily!=0]\n",
    "predict_c = data.loc[data.cashbox_daily==0]"
   ]
  },
  {
   "cell_type": "code",
   "execution_count": 301,
   "metadata": {},
   "outputs": [],
   "source": [
    "x_train_num_c = np.array(predict_c.iloc[:,0:1]) #список индексов строк, для которых будем предсказывать\n",
    "#убираем лишние данные для входных значений\n",
    "x_train_c = train_c.iloc[:,3:] \n",
    "x_predict_c = predict_c.iloc[:,3:]\n",
    "y_train_c = train_c['cashbox_daily']"
   ]
  },
  {
   "cell_type": "code",
   "execution_count": 302,
   "metadata": {},
   "outputs": [
    {
     "name": "stderr",
     "output_type": "stream",
     "text": [
      "C:\\Users\\irisc\\Anaconda3\\lib\\site-packages\\sklearn\\ensemble\\forest.py:245: FutureWarning: The default value of n_estimators will change from 10 in version 0.20 to 100 in 0.22.\n",
      "  \"10 in version 0.20 to 100 in 0.22.\", FutureWarning)\n"
     ]
    },
    {
     "data": {
      "text/plain": [
       "RandomForestRegressor(bootstrap=True, criterion='mse', max_depth=None,\n",
       "                      max_features='auto', max_leaf_nodes=None,\n",
       "                      min_impurity_decrease=0.0, min_impurity_split=None,\n",
       "                      min_samples_leaf=1, min_samples_split=2,\n",
       "                      min_weight_fraction_leaf=0.0, n_estimators=10,\n",
       "                      n_jobs=None, oob_score=False, random_state=None,\n",
       "                      verbose=0, warm_start=False)"
      ]
     },
     "execution_count": 302,
     "metadata": {},
     "output_type": "execute_result"
    }
   ],
   "source": [
    "#создаем и тренируем модель\n",
    "rf = RandomForestRegressor(min_samples_leaf=1)\n",
    "rf.fit(x_train_c, y_train_c)"
   ]
  },
  {
   "cell_type": "code",
   "execution_count": 303,
   "metadata": {},
   "outputs": [
    {
     "data": {
      "text/plain": [
       "0.34637148065968"
      ]
     },
     "execution_count": 303,
     "metadata": {},
     "output_type": "execute_result"
    }
   ],
   "source": [
    "#вычисление среднеквадратичного отклонения\n",
    "sqrt(mean_squared_error(rf.predict(x_train_c), y_train_c))"
   ]
  },
  {
   "cell_type": "code",
   "execution_count": 304,
   "metadata": {},
   "outputs": [
    {
     "data": {
      "text/plain": [
       "Text(0, 0.5, 'Estimated Cashbox_daily')"
      ]
     },
     "execution_count": 304,
     "metadata": {},
     "output_type": "execute_result"
    },
    {
     "data": {
      "image/png": "[encoded data removed]",
      "text/plain": [
       "<Figure size 504x504 with 1 Axes>"
      ]
     },
     "metadata": {
      "needs_background": "light"
     },
     "output_type": "display_data"
    }
   ],
   "source": [
    "#построение графика для предсказанных и реальных тренировочных данных\n",
    "plt.figure(figsize(7,7))\n",
    "pyplot.scatter(np.array(y_train_c), rf.predict(x_train_c), color=\"red\", alpha=0.5)\n",
    "pyplot.xlim(0,7)\n",
    "pyplot.ylim(0,7)\n",
    "plot(range(11), color='black')\n",
    "grid()\n",
    "pyplot.title('Train set', fontsize=20)\n",
    "pyplot.xlabel('Cashbox_daily', fontsize=14)\n",
    "pyplot.ylabel('Estimated Cashbox_daily', fontsize=14)"
   ]
  },
  {
   "cell_type": "code",
   "execution_count": 305,
   "metadata": {},
   "outputs": [],
   "source": [
    "y_predict_c = rf.predict(x_predict_c)"
   ]
  },
  {
   "cell_type": "code",
   "execution_count": 306,
   "metadata": {},
   "outputs": [],
   "source": [
    "#новый датасет для предсказания для почтаматов\n",
    "new_data = pd.read_excel('hackaton_data.xlsx',header=0)\n",
    "new_data.drop('Postamat_trend', axis=1, inplace=True)\n",
    "new_data.drop('cashbox_MAX', axis=1, inplace=True)\n",
    "new_data.drop('cashbox_trend', axis=1, inplace=True)\n",
    "new_data.fillna(0, inplace=True)\n",
    "new_data.loc[data.NEAR_Stations!=0, 'NEAR_Stations'] = 1\n",
    "\n",
    "#добавление в таблицу полученных ранее прогнозов для касс\n",
    "k=0\n",
    "for i in range(new_data.shape[0]):\n",
    "    if i in x_train_num_c:\n",
    "        new_data.loc[i,'cashbox_daily']=y_predict_c[k]\n",
    "        k = k + 1"
   ]
  },
  {
   "cell_type": "code",
   "execution_count": 307,
   "metadata": {},
   "outputs": [],
   "source": [
    "#тренировочные данные для предсказания для постамата\n",
    "train_p = new_data.loc[data.Postamat_daily!=0]\n",
    "predict_p = new_data.loc[data.Postamat_daily==0]\n",
    "x_train_num_p = np.array(predict_p.iloc[:,0:1])\n",
    "x_train_p = train_p.iloc[:,5:]\n",
    "x_predict_p = predict_p.iloc[:,5:]\n",
    "y_train_p = train_p['Postamat_daily']"
   ]
  },
  {
   "cell_type": "code",
   "execution_count": 308,
   "metadata": {},
   "outputs": [
    {
     "name": "stderr",
     "output_type": "stream",
     "text": [
      "C:\\Users\\irisc\\Anaconda3\\lib\\site-packages\\sklearn\\ensemble\\forest.py:245: FutureWarning: The default value of n_estimators will change from 10 in version 0.20 to 100 in 0.22.\n",
      "  \"10 in version 0.20 to 100 in 0.22.\", FutureWarning)\n"
     ]
    },
    {
     "data": {
      "text/plain": [
       "0.5667892024377317"
      ]
     },
     "execution_count": 308,
     "metadata": {},
     "output_type": "execute_result"
    }
   ],
   "source": [
    "#построение и обучение\n",
    "rfp = RandomForestRegressor(min_samples_leaf=1)\n",
    "rfp.fit(x_train_p, y_train_p)\n",
    "sqrt(mean_squared_error(rfp.predict(x_train_p), y_train_p))"
   ]
  },
  {
   "cell_type": "code",
   "execution_count": 309,
   "metadata": {},
   "outputs": [
    {
     "data": {
      "text/plain": [
       "Text(0, 0.5, 'Estimated postamat_daily')"
      ]
     },
     "execution_count": 309,
     "metadata": {},
     "output_type": "execute_result"
    },
    {
     "data": {
      "image/png": "[encoded data removed]",
      "text/plain": [
       "<Figure size 504x504 with 1 Axes>"
      ]
     },
     "metadata": {
      "needs_background": "light"
     },
     "output_type": "display_data"
    }
   ],
   "source": [
    "plt.figure(figsize(7,7))\n",
    "pyplot.scatter(np.array(y_train_p), rfp.predict(x_train_p), color=\"red\", alpha=0.5)\n",
    "pyplot.xlim(0,7)\n",
    "pyplot.ylim(0,7)\n",
    "plot(range(11), color='black')\n",
    "grid()\n",
    "pyplot.title('Train set', fontsize=20)\n",
    "pyplot.xlabel('Postamat_daily', fontsize=14)\n",
    "pyplot.ylabel('Estimated postamat_daily', fontsize=14)"
   ]
  },
  {
   "cell_type": "code",
   "execution_count": 310,
   "metadata": {},
   "outputs": [],
   "source": [
    "y_predict_p = rfp.predict(x_predict_p)\n",
    "k=0\n",
    "#добавляем в таблицу предсказанные данные для почтаматов\n",
    "for i in range(new_data.shape[0]):\n",
    "    if i in x_train_num_p:\n",
    "        new_data.loc[i,'Postamat_daily']=y_predict_p[k]\n",
    "        k = k + 1\n",
    "#новая колонка, 3 - прогноз для магазина и по кассам, и по почтаматам; 2 - только по кассам; 1 - только по почтаматам\n",
    "new_data['Change']=0\n",
    "for i in range(new_data.shape[0]):\n",
    "    if (i in x_train_num_p) and (i in x_train_num_c):\n",
    "        new_data.loc[i,'Change'] = 3\n",
    "    elif (i in x_train_num_c):\n",
    "        new_data.loc[i,'Change'] = 2\n",
    "    elif (i in x_train_num_p):\n",
    "        new_data.loc[i,'Change'] = 1 "
   ]
  },
  {
   "cell_type": "code",
   "execution_count": 315,
   "metadata": {},
   "outputs": [],
   "source": [
    "#создание новой таблицы для записи только тех магазинов, где спрогнозированы рентабельные почтаматы\n",
    "p = np.array(new_data.Postamat_daily)\n",
    "total = pd.DataFrame({'Address':'','City':'','Region':'', 'Postamat_daily':[0]})\n",
    "mean_p = np.mean(p)\n",
    "for i in range(new_data.shape[0]):\n",
    "    if ((new_data.loc[i,'Change']==3)|(new_data.loc[i,'Change']==1))&(new_data.loc[i,'REGION']=='Тульская область'):\n",
    "        if new_data.loc[i,'Postamat_daily']>mean_p:\n",
    "            addr = new_data.loc[i,'ADDRESS']\n",
    "            new_line = {'Address':addr, 'City':new_data.loc[i,'CITY'], 'Region':new_data.loc[i,'REGION'], 'Postamat_daily':new_data.loc[i,'Postamat_daily']}\n",
    "            total = total.append(new_line,ignore_index=True)         \n",
    "total.to_csv('Total.csv', sep=',' ,header=True, index=False)"
   ]
  },
  {
   "cell_type": "code",
   "execution_count": null,
   "metadata": {},
   "outputs": [],
   "source": []
  },
  {
   "cell_type": "code",
   "execution_count": null,
   "metadata": {},
   "outputs": [],
   "source": []
  },
  {
   "cell_type": "code",
   "execution_count": null,
   "metadata": {},
   "outputs": [],
   "source": []
  }
 ],
 "metadata": {
  "kernelspec": {
   "display_name": "Python 3",
   "language": "python",
   "name": "python3"
  },
  "language_info": {
   "codemirror_mode": {
    "name": "ipython",
    "version": 3
   },
   "file_extension": ".py",
   "mimetype": "text/x-python",
   "name": "python",
   "nbconvert_exporter": "python",
   "pygments_lexer": "ipython3",
   "version": "3.7.4"
  }
 },
 "nbformat": 4,
 "nbformat_minor": 2
}
