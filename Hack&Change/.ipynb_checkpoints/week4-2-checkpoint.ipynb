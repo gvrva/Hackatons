{
 "cells": [
  {
   "cell_type": "markdown",
   "metadata": {},
   "source": [
    "# Анализ данных в задаче кредитного скоринга"
   ]
  },
  {
   "cell_type": "markdown",
   "metadata": {},
   "source": [
    "### Описание данных"
   ]
  },
  {
   "cell_type": "markdown",
   "metadata": {},
   "source": [
    "Для выполнения этого задания вам понадобятся данные о кредитных историях клиентов одного из банков. Поля в предоставляемых данных имеют следующий смысл:\n",
    "- LIMIT_BAL: размер кредитного лимита (в том числе и на семью клиента)   \n",
    "- SEX: пол клиента (1 = мужской, 2 = женский )   \n",
    "- EDUCATION: образование (0 = доктор, 1 = магистр; 2 = бакалавр; 3 = выпускник школы; 4 = начальное образование; 5= прочее; 6 = нет данных ).   \n",
    "- MARRIAGE: (0 = отказываюсь отвечать; 1 = замужем/женат; 2 = холост; 3 = нет данных).    \n",
    "- AGE: возраст в годах   \n",
    "- PAY_0 - PAY_6 : История прошлых платежей по кредиту. PAY_6 - платеж в апреле, ... Pay_0 - платеж в сентябре. Платеж = (0 = исправный платеж, 1=задержка в один месяц, 2=задержка в 2 месяца ...)    \n",
    "- BILL_AMT1 - BILL_AMT6: задолженность, BILL_AMT6 - на апрель, BILL_AMT1 - на сентябрь    \n",
    "- PAY_AMT1 - PAY_AMT6: сумма уплаченная в PAY_AMT6 - апреле, ..., PAY_AMT1 - сентябре    \n",
    "- default - индикатор невозврата денежных средств    "
   ]
  },
  {
   "cell_type": "code",
   "execution_count": 1,
   "metadata": {
    "ExecuteTime": {
     "end_time": "2019-10-03T14:56:53.016205Z",
     "start_time": "2019-10-03T14:56:52.466851Z"
    }
   },
   "outputs": [],
   "source": [
    "import numpy as np\n",
    "import pandas as pd\n",
    "import seaborn as sns\n",
    "import scipy\n",
    "from scipy import stats"
   ]
  },
  {
   "cell_type": "code",
   "execution_count": 2,
   "metadata": {
    "ExecuteTime": {
     "end_time": "2019-10-03T14:56:53.023699Z",
     "start_time": "2019-10-03T14:56:53.017202Z"
    }
   },
   "outputs": [
    {
     "name": "stdout",
     "output_type": "stream",
     "text": [
      "Populating the interactive namespace from numpy and matplotlib\n"
     ]
    }
   ],
   "source": [
    "%pylab inline"
   ]
  },
  {
   "cell_type": "code",
   "execution_count": 4,
   "metadata": {
    "ExecuteTime": {
     "end_time": "2019-10-03T14:56:53.155980Z",
     "start_time": "2019-10-03T14:56:53.080183Z"
    }
   },
   "outputs": [
    {
     "data": {
      "text/html": [
       "<div>\n",
       "<style scoped>\n",
       "    .dataframe tbody tr th:only-of-type {\n",
       "        vertical-align: middle;\n",
       "    }\n",
       "\n",
       "    .dataframe tbody tr th {\n",
       "        vertical-align: top;\n",
       "    }\n",
       "\n",
       "    .dataframe thead th {\n",
       "        text-align: right;\n",
       "    }\n",
       "</style>\n",
       "<table border=\"1\" class=\"dataframe\">\n",
       "  <thead>\n",
       "    <tr style=\"text-align: right;\">\n",
       "      <th></th>\n",
       "      <th>ID</th>\n",
       "      <th>LIMIT_BAL</th>\n",
       "      <th>SEX</th>\n",
       "      <th>EDUCATION</th>\n",
       "      <th>MARRIAGE</th>\n",
       "      <th>AGE</th>\n",
       "      <th>PAY_0</th>\n",
       "      <th>PAY_2</th>\n",
       "      <th>PAY_3</th>\n",
       "      <th>PAY_4</th>\n",
       "      <th>...</th>\n",
       "      <th>BILL_AMT4</th>\n",
       "      <th>BILL_AMT5</th>\n",
       "      <th>BILL_AMT6</th>\n",
       "      <th>PAY_AMT1</th>\n",
       "      <th>PAY_AMT2</th>\n",
       "      <th>PAY_AMT3</th>\n",
       "      <th>PAY_AMT4</th>\n",
       "      <th>PAY_AMT5</th>\n",
       "      <th>PAY_AMT6</th>\n",
       "      <th>default</th>\n",
       "    </tr>\n",
       "  </thead>\n",
       "  <tbody>\n",
       "    <tr>\n",
       "      <th>0</th>\n",
       "      <td>1</td>\n",
       "      <td>20000</td>\n",
       "      <td>2</td>\n",
       "      <td>2</td>\n",
       "      <td>1</td>\n",
       "      <td>24</td>\n",
       "      <td>2</td>\n",
       "      <td>2</td>\n",
       "      <td>0</td>\n",
       "      <td>0</td>\n",
       "      <td>...</td>\n",
       "      <td>0</td>\n",
       "      <td>0</td>\n",
       "      <td>0</td>\n",
       "      <td>0</td>\n",
       "      <td>689</td>\n",
       "      <td>0</td>\n",
       "      <td>0</td>\n",
       "      <td>0</td>\n",
       "      <td>0</td>\n",
       "      <td>1</td>\n",
       "    </tr>\n",
       "    <tr>\n",
       "      <th>1</th>\n",
       "      <td>2</td>\n",
       "      <td>120000</td>\n",
       "      <td>2</td>\n",
       "      <td>2</td>\n",
       "      <td>2</td>\n",
       "      <td>26</td>\n",
       "      <td>0</td>\n",
       "      <td>2</td>\n",
       "      <td>0</td>\n",
       "      <td>0</td>\n",
       "      <td>...</td>\n",
       "      <td>3272</td>\n",
       "      <td>3455</td>\n",
       "      <td>3261</td>\n",
       "      <td>0</td>\n",
       "      <td>1000</td>\n",
       "      <td>1000</td>\n",
       "      <td>1000</td>\n",
       "      <td>0</td>\n",
       "      <td>2000</td>\n",
       "      <td>1</td>\n",
       "    </tr>\n",
       "    <tr>\n",
       "      <th>2</th>\n",
       "      <td>3</td>\n",
       "      <td>90000</td>\n",
       "      <td>2</td>\n",
       "      <td>2</td>\n",
       "      <td>2</td>\n",
       "      <td>34</td>\n",
       "      <td>0</td>\n",
       "      <td>0</td>\n",
       "      <td>0</td>\n",
       "      <td>0</td>\n",
       "      <td>...</td>\n",
       "      <td>14331</td>\n",
       "      <td>14948</td>\n",
       "      <td>15549</td>\n",
       "      <td>1518</td>\n",
       "      <td>1500</td>\n",
       "      <td>1000</td>\n",
       "      <td>1000</td>\n",
       "      <td>1000</td>\n",
       "      <td>5000</td>\n",
       "      <td>0</td>\n",
       "    </tr>\n",
       "    <tr>\n",
       "      <th>3</th>\n",
       "      <td>4</td>\n",
       "      <td>50000</td>\n",
       "      <td>2</td>\n",
       "      <td>2</td>\n",
       "      <td>1</td>\n",
       "      <td>37</td>\n",
       "      <td>0</td>\n",
       "      <td>0</td>\n",
       "      <td>0</td>\n",
       "      <td>0</td>\n",
       "      <td>...</td>\n",
       "      <td>28314</td>\n",
       "      <td>28959</td>\n",
       "      <td>29547</td>\n",
       "      <td>2000</td>\n",
       "      <td>2019</td>\n",
       "      <td>1200</td>\n",
       "      <td>1100</td>\n",
       "      <td>1069</td>\n",
       "      <td>1000</td>\n",
       "      <td>0</td>\n",
       "    </tr>\n",
       "    <tr>\n",
       "      <th>4</th>\n",
       "      <td>5</td>\n",
       "      <td>50000</td>\n",
       "      <td>1</td>\n",
       "      <td>2</td>\n",
       "      <td>1</td>\n",
       "      <td>57</td>\n",
       "      <td>0</td>\n",
       "      <td>0</td>\n",
       "      <td>0</td>\n",
       "      <td>0</td>\n",
       "      <td>...</td>\n",
       "      <td>20940</td>\n",
       "      <td>19146</td>\n",
       "      <td>19131</td>\n",
       "      <td>2000</td>\n",
       "      <td>36681</td>\n",
       "      <td>10000</td>\n",
       "      <td>9000</td>\n",
       "      <td>689</td>\n",
       "      <td>679</td>\n",
       "      <td>0</td>\n",
       "    </tr>\n",
       "  </tbody>\n",
       "</table>\n",
       "<p>5 rows × 25 columns</p>\n",
       "</div>"
      ],
      "text/plain": [
       "   ID  LIMIT_BAL  SEX  EDUCATION  MARRIAGE  AGE  PAY_0  PAY_2  PAY_3  PAY_4  \\\n",
       "0   1      20000    2          2         1   24      2      2      0      0   \n",
       "1   2     120000    2          2         2   26      0      2      0      0   \n",
       "2   3      90000    2          2         2   34      0      0      0      0   \n",
       "3   4      50000    2          2         1   37      0      0      0      0   \n",
       "4   5      50000    1          2         1   57      0      0      0      0   \n",
       "\n",
       "    ...     BILL_AMT4  BILL_AMT5  BILL_AMT6  PAY_AMT1  PAY_AMT2  PAY_AMT3  \\\n",
       "0   ...             0          0          0         0       689         0   \n",
       "1   ...          3272       3455       3261         0      1000      1000   \n",
       "2   ...         14331      14948      15549      1518      1500      1000   \n",
       "3   ...         28314      28959      29547      2000      2019      1200   \n",
       "4   ...         20940      19146      19131      2000     36681     10000   \n",
       "\n",
       "   PAY_AMT4  PAY_AMT5  PAY_AMT6  default  \n",
       "0         0         0         0        1  \n",
       "1      1000         0      2000        1  \n",
       "2      1000      1000      5000        0  \n",
       "3      1100      1069      1000        0  \n",
       "4      9000       689       679        0  \n",
       "\n",
       "[5 rows x 25 columns]"
      ]
     },
     "execution_count": 4,
     "metadata": {},
     "output_type": "execute_result"
    }
   ],
   "source": [
    "data = pd.read_csv(\"credit_card_default_analysis.csv\")\n",
    "data.head()"
   ]
  },
  {
   "cell_type": "markdown",
   "metadata": {},
   "source": [
    "## Размер кредитного лимита (LIMIT_BAL)"
   ]
  },
  {
   "cell_type": "markdown",
   "metadata": {},
   "source": [
    "Рассмотрим две группы кредитов: те, в которых нет просрочек по возврату и те, в которых есть просрочки по возврату."
   ]
  },
  {
   "cell_type": "code",
   "execution_count": 5,
   "metadata": {
    "ExecuteTime": {
     "end_time": "2019-10-03T14:56:56.678141Z",
     "start_time": "2019-10-03T14:56:56.667662Z"
    }
   },
   "outputs": [],
   "source": [
    "repayment = data[data.default == 0]\n",
    "loan = data[data.default == 1]"
   ]
  },
  {
   "cell_type": "code",
   "execution_count": 6,
   "metadata": {
    "ExecuteTime": {
     "end_time": "2019-10-03T14:56:58.022955Z",
     "start_time": "2019-10-03T14:56:57.587239Z"
    }
   },
   "outputs": [
    {
     "data": {
      "text/plain": [
       "<matplotlib.legend.Legend at 0xc6d6e80>"
      ]
     },
     "execution_count": 6,
     "metadata": {},
     "output_type": "execute_result"
    },
    {
     "data": {
      "image/png": "[encoded data removed]",
      "text/plain": [
       "<Figure size 1152x288 with 2 Axes>"
      ]
     },
     "metadata": {
      "needs_background": "light"
     },
     "output_type": "display_data"
    }
   ],
   "source": [
    "pylab.figure(figsize(16, 4))\n",
    "pylab.subplot(1,2,1)\n",
    "repayment.LIMIT_BAL.hist(color='lightskyblue', bins = 50, range = (0, 1000000))\n",
    "pylab.xlabel(u'Размер кредитного лимита (в том числе и на семью клиента), руб')\n",
    "pylab.ylabel(u'Всего выдано кредитов, шт.')\n",
    "plt.title(u'Кредиты, в которых нет просрочек по возврату')\n",
    "pylab.legend()\n",
    "\n",
    "pylab.subplot(1,2,2)\n",
    "loan.LIMIT_BAL.hist(color='lightcoral', bins = 50, range = (0, 1000000))\n",
    "pylab.xlabel(u'Размер кредитного лимита (в том числе и на семью клиента), руб')\n",
    "pylab.ylabel(u'Всего выдано кредитов, шт.')\n",
    "plt.title(u'Кредиты, в которых есть просрочки по возврату')\n",
    "pylab.legend()"
   ]
  },
  {
   "cell_type": "markdown",
   "metadata": {},
   "source": [
    "#### Равны ли медианы значений кредитного лимита в обоих группах?"
   ]
  },
  {
   "cell_type": "markdown",
   "metadata": {},
   "source": [
    "Построим 95% доверительный интервал для разности медиан и проверим, входит ли туда 0. Для этого используем метода бутстреп, так как он не делает предположений о распределении."
   ]
  },
  {
   "cell_type": "code",
   "execution_count": 7,
   "metadata": {
    "ExecuteTime": {
     "end_time": "2019-10-03T14:57:53.159608Z",
     "start_time": "2019-10-03T14:57:53.154622Z"
    },
    "code_folding": [
     0,
     4
    ]
   },
   "outputs": [],
   "source": [
    "def stat_intervals(stat, alpha=0.05):\n",
    "    boundaries = np.percentile(stat, [100 * alpha / 2., 100 * (1 - alpha / 2.)])\n",
    "    return boundaries\n",
    "\n",
    "def get_bootstrap_samples(data, n_samples):\n",
    "    indices = np.random.randint(0, len(data), (n_samples, len(data)))\n",
    "    samples = data[indices]\n",
    "    return samples"
   ]
  },
  {
   "cell_type": "code",
   "execution_count": 8,
   "metadata": {
    "ExecuteTime": {
     "end_time": "2019-10-03T15:01:04.407656Z",
     "start_time": "2019-10-03T15:01:03.783297Z"
    }
   },
   "outputs": [],
   "source": [
    "np.random.seed(0)\n",
    "\n",
    "repayments_median = list(map(np.median, get_bootstrap_samples(repayment.LIMIT_BAL.values, 1000)))\n",
    "loans_median  = list(map(np.median, get_bootstrap_samples(loan.LIMIT_BAL.values, 1000)))\n",
    "delta_median = list(map(lambda x: x[1] - x[0], zip(loans_median, repayments_median)))"
   ]
  },
  {
   "cell_type": "code",
   "execution_count": 9,
   "metadata": {
    "ExecuteTime": {
     "end_time": "2019-10-03T15:01:04.413641Z",
     "start_time": "2019-10-03T15:01:04.408654Z"
    }
   },
   "outputs": [
    {
     "name": "stdout",
     "output_type": "stream",
     "text": [
      "('95% \\xd0\\xb4\\xd0\\xbe\\xd0\\xb2\\xd0\\xb5\\xd1\\x80\\xd0\\xb8\\xd1\\x82\\xd0\\xb5\\xd0\\xbb\\xd1\\x8c\\xd0\\xbd\\xd1\\x8b\\xd0\\xb9 \\xd0\\xb8\\xd0\\xbd\\xd1\\x82\\xd0\\xb5\\xd1\\x80\\xd0\\xb2\\xd0\\xb0\\xd0\\xbb \\xd0\\xb4\\xd0\\xbb\\xd1\\x8f \\xd0\\xbc\\xd0\\xb5\\xd0\\xb4\\xd0\\xb8\\xd0\\xb0\\xd0\\xbd\\xd1\\x8b \\xd0\\xba\\xd1\\x80\\xd0\\xb5\\xd0\\xb4\\xd0\\xb8\\xd1\\x82\\xd0\\xbe\\xd0\\xb2, \\xd0\\xb2 \\xd0\\xba\\xd0\\xbe\\xd1\\x82\\xd0\\xbe\\xd1\\x80\\xd1\\x8b\\xd1\\x85 \\xd0\\xbd\\xd0\\xb5\\xd1\\x82 \\xd0\\xbf\\xd1\\x80\\xd0\\xbe\\xd1\\x81\\xd1\\x80\\xd0\\xbe\\xd1\\x87\\xd0\\xb5\\xd0\\xba:', array([150000., 150000.]))\n",
      "('95% \\xd0\\xb4\\xd0\\xbe\\xd0\\xb2\\xd0\\xb5\\xd1\\x80\\xd0\\xb8\\xd1\\x82\\xd0\\xb5\\xd0\\xbb\\xd1\\x8c\\xd0\\xbd\\xd1\\x8b\\xd0\\xb9 \\xd0\\xb8\\xd0\\xbd\\xd1\\x82\\xd0\\xb5\\xd1\\x80\\xd0\\xb2\\xd0\\xb0\\xd0\\xbb \\xd0\\xb4\\xd0\\xbb\\xd1\\x8f \\xd0\\xbc\\xd0\\xb5\\xd0\\xb4\\xd0\\xb8\\xd0\\xb0\\xd0\\xbd\\xd1\\x8b \\xd0\\xba\\xd1\\x80\\xd0\\xb5\\xd0\\xb4\\xd0\\xb8\\xd1\\x82\\xd0\\xbe\\xd0\\xb2, \\xd0\\xb2 \\xd0\\xba\\xd0\\xbe\\xd1\\x82\\xd0\\xbe\\xd1\\x80\\xd1\\x8b\\xd1\\x85 \\xd0\\xb5\\xd1\\x81\\xd1\\x82\\xd1\\x8c \\xd0\\xbf\\xd1\\x80\\xd0\\xbe\\xd1\\x81\\xd1\\x80\\xd0\\xbe\\xd1\\x87\\xd0\\xba\\xd0\\xb8 \\xd0\\xbf\\xd0\\xbe \\xd0\\xb2\\xd0\\xbe\\xd0\\xb7\\xd0\\xb2\\xd1\\x80\\xd0\\xb0\\xd1\\x82\\xd1\\x83:', array([80000., 90000.]))\n",
      "('95% \\xd0\\xb4\\xd0\\xbe\\xd0\\xb2\\xd0\\xb5\\xd1\\x80\\xd0\\xb8\\xd1\\x82\\xd0\\xb5\\xd0\\xbb\\xd1\\x8c\\xd0\\xbd\\xd1\\x8b\\xd0\\xb9 \\xd0\\xb8\\xd0\\xbd\\xd1\\x82\\xd0\\xb5\\xd1\\x80\\xd0\\xb2\\xd0\\xb0\\xd0\\xbb \\xd0\\xb4\\xd0\\xbb\\xd1\\x8f \\xd1\\x80\\xd0\\xb0\\xd0\\xb7\\xd0\\xbd\\xd0\\xbe\\xd1\\x81\\xd1\\x82\\xd0\\xb8 \\xd0\\xbc\\xd0\\xb5\\xd0\\xb4\\xd0\\xb8\\xd0\\xb0\\xd0\\xbd:', array([60000., 70000.]))\n"
     ]
    }
   ],
   "source": [
    "print(\"95% доверительный интервал для медианы кредитов, в которых нет просрочек:\",  stat_intervals(repayments_median, 0.05))\n",
    "print(\"95% доверительный интервал для медианы кредитов, в которых есть просрочки по возврату:\",  stat_intervals(loans_median, 0.05))\n",
    "print(\"95% доверительный интервал для разности медиан:\",  stat_intervals(delta_median, 0.05))"
   ]
  },
  {
   "cell_type": "markdown",
   "metadata": {},
   "source": [
    "Вывод: интервалы для медиан лимитов отличаются (разница не содержат 0). Поэтому гипотезу о равенстве медиан отвергаем. "
   ]
  },
  {
   "cell_type": "markdown",
   "metadata": {},
   "source": [
    "#### Равны ли распределения в обоих группах? "
   ]
  },
  {
   "cell_type": "markdown",
   "metadata": {},
   "source": [
    "Для проверки воспользуемся перестановочным критерием для независимых выборок."
   ]
  },
  {
   "cell_type": "markdown",
   "metadata": {},
   "source": [
    "$H_0\\colon F_{X_1}(x) = F_{X_2}(x)$\n",
    "\n",
    "$H_1\\colon F_{X_1}(x) = F_{X_2}(x + \\Delta), \\Delta\\neq 0$"
   ]
  },
  {
   "cell_type": "code",
   "execution_count": 10,
   "metadata": {
    "ExecuteTime": {
     "end_time": "2019-10-03T15:01:47.081819Z",
     "start_time": "2019-10-03T15:01:47.071845Z"
    },
    "code_folding": [
     0,
     3,
     11,
     26
    ]
   },
   "outputs": [],
   "source": [
    "def permutation_t_stat_ind(sample1, sample2):\n",
    "    return np.mean(sample1) - np.mean(sample2)\n",
    "\n",
    "def get_random_combinations(n1, n2, max_combinations):\n",
    "    index = np.arange(n1 + n2)\n",
    "    indices = set([tuple(index)])\n",
    "    for i in range(max_combinations - 1):\n",
    "        np.random.shuffle(index)\n",
    "        indices.add(tuple(index))\n",
    "    return [(index[:n1], index[n1:]) for index in indices]\n",
    "\n",
    "def permutation_zero_dist_ind(sample1, sample2, max_combinations = None):\n",
    "    joined_sample = np.hstack((sample1, sample2))\n",
    "    n1 = len(sample1)\n",
    "    n = len(joined_sample)\n",
    "    \n",
    "    if max_combinations:\n",
    "        indices = get_random_combinations(n1, len(sample2), max_combinations)\n",
    "    else:\n",
    "        indices = [(list(index), filter(lambda i: i not in index, range(n))) \\\n",
    "                    for index in itertools.combinations(range(n), n1)]\n",
    "    \n",
    "    distr = [joined_sample[list(i[0])].mean() - joined_sample[list(i[1])].mean() \\\n",
    "             for i in indices]\n",
    "    return distr\n",
    "\n",
    "def permutation_test(sample, mean, max_permutations = None, alternative = 'two-sided'):\n",
    "    if alternative not in ('two-sided', 'less', 'greater'):\n",
    "        raise ValueError(\"alternative not recognized\\n\"\n",
    "                         \"should be 'two-sided', 'less' or 'greater'\")\n",
    "    \n",
    "    t_stat = permutation_t_stat_ind(sample, mean)\n",
    "    \n",
    "    zero_distr = permutation_zero_dist_ind(sample, mean, max_permutations)\n",
    "    \n",
    "    if alternative == 'two-sided':\n",
    "        return sum([1. if abs(x) >= abs(t_stat) else 0. for x in zero_distr]) / len(zero_distr)\n",
    "    \n",
    "    if alternative == 'less':\n",
    "        return sum([1. if x <= t_stat else 0. for x in zero_distr]) / len(zero_distr)\n",
    "\n",
    "    if alternative == 'greater':\n",
    "        return sum([1. if x >= t_stat else 0. for x in zero_distr]) / len(zero_distr)"
   ]
  },
  {
   "cell_type": "code",
   "execution_count": null,
   "metadata": {
    "ExecuteTime": {
     "end_time": "2019-10-03T15:02:13.610190Z",
     "start_time": "2019-10-03T15:01:47.544104Z"
    }
   },
   "outputs": [],
   "source": [
    "print(\"p-value: %f\" % permutation_test(repayment.LIMIT_BAL.values, loan.LIMIT_BAL.values, max_permutations = 5000))"
   ]
  },
  {
   "cell_type": "markdown",
   "metadata": {},
   "source": [
    "Вывод: p-value довольно мало, гипотеза о равенстве распределений отвергается. "
   ]
  },
  {
   "cell_type": "markdown",
   "metadata": {},
   "source": [
    "Общий для пункта вывод: признак LIMIT_BAL значим."
   ]
  },
  {
   "cell_type": "markdown",
   "metadata": {},
   "source": [
    "## Пол (SEX)"
   ]
  },
  {
   "cell_type": "markdown",
   "metadata": {},
   "source": [
    "Проверим гипотезу о том, что гендерный состав группы людей вернувших и не вернувших кредит отличается."
   ]
  },
  {
   "cell_type": "markdown",
   "metadata": {},
   "source": [
    "В начале посмотрим, как распределены кредиты между мужчинами и женщинами. А также посмотрим, как обстоят дела с возвратом кредитов среди них."
   ]
  },
  {
   "cell_type": "code",
   "execution_count": null,
   "metadata": {
    "ExecuteTime": {
     "end_time": "2019-10-03T15:02:54.290743Z",
     "start_time": "2019-10-03T15:02:54.275767Z"
    }
   },
   "outputs": [],
   "source": [
    "dataFromMens = data[data['SEX'] == 1]\n",
    "dataFromWomans = data[data['SEX'] == 2]\n",
    "\n",
    "quntityRepaymentsFromMens = len(dataFromMens[dataFromMens['default'] == 0])\n",
    "quntityLoansFromMens = len(dataFromMens[dataFromMens['default'] == 1])\n",
    "quntityRepaymentsFromWomens = len(dataFromWomans[dataFromWomans['default'] == 0])\n",
    "quntityLoansFromWomens = len(dataFromWomans[dataFromWomans['default'] == 1])\n",
    "\n",
    "N = 2\n",
    "repaymentsFromMensWomans = (quntityRepaymentsFromMens, quntityRepaymentsFromWomens)\n",
    "loansFromMensWomans = (quntityLoansFromMens, quntityLoansFromWomens)\n",
    "\n",
    "ind = np.arange(N)    \n",
    "width = 0.35  "
   ]
  },
  {
   "cell_type": "code",
   "execution_count": null,
   "metadata": {
    "ExecuteTime": {
     "end_time": "2019-10-03T15:02:55.377355Z",
     "start_time": "2019-10-03T15:02:55.223754Z"
    }
   },
   "outputs": [],
   "source": [
    "plt.figure(figsize(16,4))\n",
    "\n",
    "sns.set_style(\"white\")\n",
    "\n",
    "sns.barplot(x = ind, y = repaymentsFromMensWomans, color = \"lightcoral\")\n",
    "sns.barplot(x = ind, y = loansFromMensWomans, color = \"lightskyblue\", bottom=repaymentsFromMensWomans)\n",
    "\n",
    "bar1 = plt.Rectangle((0,0),1,1,fc=\"lightskyblue\", edgecolor = 'none')\n",
    "bar2 = plt.Rectangle((0,0),1,1,fc='lightcoral',  edgecolor = 'none')\n",
    "l = plt.legend([bar1, bar2], [u'Кредиты, в которых есть просрочки по возврату', u'Кредиты, в которых нет просрочек по возврату'], loc=1, ncol = 2, prop={'size':10})\n",
    "plt.title(u'Кредиты, взависимости от пола')\n",
    "plt.xticks(ind, (u'Мужчины', u'Женщины'))\n",
    "plt.ylabel(u'Всего выдано кредитов, шт.')\n",
    "plt.grid(True)"
   ]
  },
  {
   "cell_type": "markdown",
   "metadata": {},
   "source": [
    "Проверка гипотезы сводится к проверке следующих утверждений:\n",
    "\n",
    "$H_0\\colon p_1 = p_2$       - доли одинаковы\n",
    "\n",
    "$H_1\\colon p_1 \\neq\\ p_2$     - доли разные  \n",
    "\n",
    "Для этого воспользуемся Z-критерием для разности долей в независимых выборках."
   ]
  },
  {
   "cell_type": "code",
   "execution_count": null,
   "metadata": {
    "ExecuteTime": {
     "end_time": "2019-10-03T15:03:15.519246Z",
     "start_time": "2019-10-03T15:03:15.511268Z"
    },
    "code_folding": [
     0,
     11,
     21
    ]
   },
   "outputs": [],
   "source": [
    "def proportions_diff_confint_ind(sample1, sample2, alpha = 0.05):    \n",
    "    z = scipy.stats.norm.ppf(1 - alpha / 2.)\n",
    "    \n",
    "    p1 = float(sum(sample1)) / len(sample1)\n",
    "    p2 = float(sum(sample2)) / len(sample2)\n",
    "    \n",
    "    left_boundary = (p1 - p2) - z * np.sqrt(p1 * (1 - p1)/ len(sample1) + p2 * (1 - p2)/ len(sample2))\n",
    "    right_boundary = (p1 - p2) + z * np.sqrt(p1 * (1 - p1)/ len(sample1) + p2 * (1 - p2)/ len(sample2))\n",
    "    \n",
    "    return (left_boundary, right_boundary)\n",
    "\n",
    "def proportions_diff_z_stat_ind(sample1, sample2):\n",
    "    n1 = len(sample1)\n",
    "    n2 = len(sample2)\n",
    "    \n",
    "    p1 = float(sum(sample1)) / n1\n",
    "    p2 = float(sum(sample2)) / n2 \n",
    "    P = float(p1*n1 + p2*n2) / (n1 + n2)\n",
    "    \n",
    "    return (p1 - p2) / np.sqrt(P * (1 - P) * (1. / n1 + 1. / n2))\n",
    "\n",
    "def proportions_diff_z_test(z_stat, alternative = 'two-sided'):\n",
    "    if alternative not in ('two-sided', 'less', 'greater'):\n",
    "        raise ValueError(\"alternative not recognized\\n\"\n",
    "                         \"should be 'two-sided', 'less' or 'greater'\")\n",
    "    \n",
    "    if alternative == 'two-sided':\n",
    "        return 2 * (1 - scipy.stats.norm.cdf(np.abs(z_stat)))\n",
    "    \n",
    "    if alternative == 'less':\n",
    "        return scipy.stats.norm.cdf(z_stat)\n",
    "\n",
    "    if alternative == 'greater':\n",
    "        return 1 - scipy.stats.norm.cdf(z_stat)"
   ]
  },
  {
   "cell_type": "code",
   "execution_count": null,
   "metadata": {
    "ExecuteTime": {
     "end_time": "2019-10-03T15:03:23.744984Z",
     "start_time": "2019-10-03T15:03:23.736984Z"
    }
   },
   "outputs": [],
   "source": [
    "mensList = data[data.SEX == 1].default.tolist()\n",
    "womansList = data[data.SEX == 2].default.tolist()"
   ]
  },
  {
   "cell_type": "code",
   "execution_count": null,
   "metadata": {
    "ExecuteTime": {
     "end_time": "2019-10-03T15:03:34.763183Z",
     "start_time": "2019-10-03T15:03:34.744223Z"
    }
   },
   "outputs": [],
   "source": [
    "print(\"95%% доверительный интервал разницы долей (кредит без просрочек/кредит с просрочками) между мужчинами и женщинами: [%f, %f]\" %proportions_diff_confint_ind(mensList, womansList))\n",
    "print(\"p-value: \", proportions_diff_z_test(proportions_diff_z_stat_ind(mensList, womansList)))"
   ]
  },
  {
   "cell_type": "markdown",
   "metadata": {},
   "source": [
    "Вывод: доли (кредит без просрочек/кредит с просрочками) между мужчинами и женщинами статистически различаются (p-value < 0.05). В тоже время эта разница с практической т.з. является мизерной (от 2,4% до 4,3%). Поэтому признак SEX при построение модели можно считать незначимым."
   ]
  },
  {
   "cell_type": "markdown",
   "metadata": {},
   "source": [
    "## Образование (EDUCATION)"
   ]
  },
  {
   "cell_type": "markdown",
   "metadata": {},
   "source": [
    "Проверим гипотезу о том, что образование не влияет на то, вернет ли человек долг."
   ]
  },
  {
   "cell_type": "markdown",
   "metadata": {},
   "source": [
    "Посмотрим, как зависит наличие просрочек от типа образования:"
   ]
  },
  {
   "cell_type": "code",
   "execution_count": null,
   "metadata": {
    "ExecuteTime": {
     "end_time": "2019-10-03T15:04:05.087559Z",
     "start_time": "2019-10-03T15:04:04.512582Z"
    }
   },
   "outputs": [],
   "source": [
    "sns.factorplot(x='EDUCATION', y='default',  data=data, kind=\"bar\", palette=\"muted\", size = 6)\n",
    "plt.ylabel(u'Доля кредитов с просрочками')\n",
    "plt.xlabel(u'Тип образования')\n",
    "plt.title(u'Кредиты с просрочками, взависимости от образования')"
   ]
  },
  {
   "cell_type": "markdown",
   "metadata": {},
   "source": [
    "У докторов наук (EDUCATION=0) вообще нет просрочек по кредитам. Также небольшой процент невозврата у окончивших лишь начальную школу (EDUCATION=4) и указавших свое образование как \"другое\" (EDUCATION=5). Значительный высокий процент невозврата у окончивших школу (EDUCATION=3), получивших высшее образование бакалавров (EDUCATION=2) и тех, кто не указал свое образование (EDUCATION=6). Поэтому необходимо считать признак EDUCATION как важным при построение модели."
   ]
  },
  {
   "cell_type": "markdown",
   "metadata": {},
   "source": [
    "Проверим, зависимы ли тип образования и наличие/отсутствие просрочек в оплате кредита. Для этого воспользуемся критерием хи-квадрат. Нулевая гипотеза $H_0$: подвыборки образования заемщиков вернувших и не вернувших кредит -- независимы, альтернативная $H_a$: нулевая гипотеза неверна.    \n",
    "Предварительно составим таблицу сопряженности для образования и возврата / не возврата кредита:"
   ]
  },
  {
   "cell_type": "code",
   "execution_count": null,
   "metadata": {
    "ExecuteTime": {
     "end_time": "2019-10-03T15:04:06.830429Z",
     "start_time": "2019-10-03T15:04:06.809473Z"
    }
   },
   "outputs": [],
   "source": [
    "tableEducationVSDefault = pd.DataFrame({u'Без просрочек': data[data['default'] == 0].EDUCATION.value_counts(), u'С просрочками': data[data['default'] == 1].EDUCATION.value_counts()})\n",
    "tableEducationVSDefault.iloc[0,1] = 0\n",
    "tableEducationVSDefault"
   ]
  },
  {
   "cell_type": "code",
   "execution_count": null,
   "metadata": {
    "ExecuteTime": {
     "end_time": "2019-10-03T15:04:18.679383Z",
     "start_time": "2019-10-03T15:04:18.663415Z"
    },
    "code_folding": [
     0
    ]
   },
   "outputs": [],
   "source": [
    "def v_cramer(chi, n, shape):\n",
    "    return np.sqrt(chi/n/(min(shape[0], shape[1])-1))\n",
    "\n",
    "n = len(data) \n",
    "print(\"p-value: \", proportions_diff_z_test(proportions_diff_z_stat_ind(mensList, womansList)))\n",
    "print('v_cramer: ', v_cramer(stats.chi2_contingency(tableEducationVSDefault, correction=False)[0], n, tableEducationVSDefault.shape))"
   ]
  },
  {
   "cell_type": "markdown",
   "metadata": {},
   "source": [
    "Выводы: гипотеза о независимости образования и наличия/отсутствия просрочек в оплате кредита отвергается. Поэтому признак EDUCATION является важным при рассмотрении заявки на кредит."
   ]
  },
  {
   "cell_type": "markdown",
   "metadata": {},
   "source": [
    "## Семейное положение (MARRIAGE)"
   ]
  },
  {
   "cell_type": "markdown",
   "metadata": {},
   "source": [
    "Проверим, как связан семейный статус с индикатором дефолта. Для этого воспользуемся подходом, аналогичным тому, что применили для признака EDUCATION."
   ]
  },
  {
   "cell_type": "code",
   "execution_count": null,
   "metadata": {
    "ExecuteTime": {
     "end_time": "2019-10-03T15:05:20.498795Z",
     "start_time": "2019-10-03T15:05:20.084386Z"
    }
   },
   "outputs": [],
   "source": [
    "sns.factorplot(x='MARRIAGE', y='default',  data=data, kind=\"bar\", palette=\"muted\", size = 6)\n",
    "plt.ylabel(u'Доля кредитов с просрочками')\n",
    "plt.xlabel(u'Семейный статус')\n",
    "plt.title(u'Кредиты с просрочками, взависимости от семейного статуса')"
   ]
  },
  {
   "cell_type": "markdown",
   "metadata": {},
   "source": [
    "Самая малая доля кредитов с просрочками у тех, кто отказался указывать свой семейный статус (MARRIAGE=0). У остальных категорий  примерно одинаковые доли кредитов с просрочками (MARRIAGE=1 - замужем/женат; MARRIAGE=2 - холост; MARRIAGE=3 - нет данных). Поэтому признак MARRIAGE необходимо считать как важный при построении модели."
   ]
  },
  {
   "cell_type": "code",
   "execution_count": null,
   "metadata": {
    "ExecuteTime": {
     "end_time": "2019-10-03T15:05:21.478702Z",
     "start_time": "2019-10-03T15:05:21.466724Z"
    }
   },
   "outputs": [],
   "source": [
    "tableMarriageVSDefault = pd.DataFrame({u'Без просрочек': data[data['default'] == 0].MARRIAGE.value_counts(), u'С просрочками': data[data['default'] == 1].MARRIAGE.value_counts()})\n",
    "tableMarriageVSDefault"
   ]
  },
  {
   "cell_type": "code",
   "execution_count": null,
   "metadata": {
    "ExecuteTime": {
     "end_time": "2019-10-03T15:05:50.076650Z",
     "start_time": "2019-10-03T15:05:50.071663Z"
    }
   },
   "outputs": [],
   "source": [
    "n = len(data) \n",
    "print(\"p-value: \", stats.chi2_contingency(tableMarriageVSDefault, correction=False)[1])\n",
    "print('v_cramer: ', v_cramer(stats.chi2_contingency(tableMarriageVSDefault, correction=False)[0], n, tableMarriageVSDefault.shape))"
   ]
  },
  {
   "cell_type": "markdown",
   "metadata": {},
   "source": [
    "Выводы: гипотеза о независимости семейного статуса и наличия/отсутствия просрочек в оплате кредита отвергается. Поэтому признак MARRIAGE является важным при рассмотрении заявки на кредит."
   ]
  },
  {
   "cell_type": "markdown",
   "metadata": {},
   "source": [
    "## Возраст (AGE)"
   ]
  },
  {
   "cell_type": "markdown",
   "metadata": {},
   "source": [
    "Исследуем влияние возраста на возврат/просрочку кредита. В начале посмотрим распределение числа кредитов без и с просрочками, взависимости от возраста. "
   ]
  },
  {
   "cell_type": "code",
   "execution_count": null,
   "metadata": {
    "ExecuteTime": {
     "end_time": "2019-10-03T15:06:02.922543Z",
     "start_time": "2019-10-03T15:06:02.355517Z"
    }
   },
   "outputs": [],
   "source": [
    "pylab.figure(figsize(16, 4))\n",
    "pylab.subplot(1,2,1)\n",
    "repayment.AGE.hist(color='lightskyblue', bins = 60, range = (20, 80))\n",
    "pylab.xlabel(u'Возраст, лет')\n",
    "pylab.ylabel(u'Всего выдано кредитов, шт.')\n",
    "plt.title(u'Кредиты, в которых нет просрочек по возврату')\n",
    "pylab.legend()\n",
    "\n",
    "pylab.subplot(1,2,2)\n",
    "loan.AGE.hist(color='lightcoral', bins = 60, range = (20, 80))\n",
    "pylab.xlabel(u'Возраст, лет')\n",
    "pylab.ylabel(u'Всего выдано кредитов, шт.')\n",
    "plt.title(u'Кредиты, в которых есть просрочки по возврату')\n",
    "pylab.legend()"
   ]
  },
  {
   "cell_type": "markdown",
   "metadata": {},
   "source": [
    "#### Равны ли медианы значений возрастов людей в обоих группах?"
   ]
  },
  {
   "cell_type": "code",
   "execution_count": null,
   "metadata": {
    "ExecuteTime": {
     "end_time": "2019-10-03T15:07:49.129839Z",
     "start_time": "2019-10-03T15:07:48.503475Z"
    }
   },
   "outputs": [],
   "source": [
    "np.random.seed(123)\n",
    "\n",
    "repayments_median = list(map(np.median, get_bootstrap_samples(repayment.AGE.values, 1000)))\n",
    "loans_median  = list(map(np.median, get_bootstrap_samples(loan.AGE.values, 1000)))\n",
    "delta_medianForAge = list(map(lambda x: x[1] - x[0], zip(loans_median, repayments_median)))"
   ]
  },
  {
   "cell_type": "code",
   "execution_count": null,
   "metadata": {
    "ExecuteTime": {
     "end_time": "2019-10-03T15:08:24.093030Z",
     "start_time": "2019-10-03T15:08:24.087533Z"
    }
   },
   "outputs": [],
   "source": [
    "print(\"95% доверительный интервал для медианы кредитов, в которых нет просрочек:\",  stat_intervals(repayments_median, 0.05))\n",
    "print(\"95% доверительный интервал для медианы кредитов, в которых есть просрочки по возврату:\",  stat_intervals(loans_median, 0.05))\n",
    "print(\"95% доверительный интервал для разности медиан:\",  stat_intervals(delta_medianForAge, 0.05))"
   ]
  },
  {
   "cell_type": "markdown",
   "metadata": {},
   "source": [
    "Вывод: 0 входит в доверительный интервал, поэтому однозначно мы не можем сказать, что есть разница в медианых значений возраста в кредитах у которых нет просрочек и кредитах, где они есть."
   ]
  },
  {
   "cell_type": "markdown",
   "metadata": {},
   "source": [
    "#### Равны ли распределения в обоих группах?"
   ]
  },
  {
   "cell_type": "markdown",
   "metadata": {},
   "source": [
    "Для проверки воспользуемся перестановочным критерием для независимых выборок."
   ]
  },
  {
   "cell_type": "markdown",
   "metadata": {},
   "source": [
    "$H_0\\colon F_{X_1}(x) = F_{X_2}(x)$\n",
    "\n",
    "$H_1\\colon F_{X_1}(x) = F_{X_2}(x + \\Delta), \\Delta\\neq 0$"
   ]
  },
  {
   "cell_type": "code",
   "execution_count": null,
   "metadata": {
    "ExecuteTime": {
     "end_time": "2019-10-03T15:09:00.735781Z",
     "start_time": "2019-10-03T15:08:33.658576Z"
    }
   },
   "outputs": [],
   "source": [
    "print(\"p-value: %f\" % permutation_test(repayment.AGE.values, loan.AGE.values, max_permutations = 5000))"
   ]
  },
  {
   "cell_type": "markdown",
   "metadata": {},
   "source": [
    "Вывод: гипотеза о равенстве распредений отвергается."
   ]
  },
  {
   "cell_type": "markdown",
   "metadata": {},
   "source": [
    "Общий вывод по пункту: Ввиду того, что доверительный интервал содержит ноль и в тоже время p-value < 0,05 мы не можем однозначно определить зависимость от возраста. Для более точных оценок необходимо больше данных. "
   ]
  }
 ],
 "metadata": {
  "kernelspec": {
   "display_name": "Python 3",
   "language": "python",
   "name": "python3"
  },
  "language_info": {
   "codemirror_mode": {
    "name": "ipython",
    "version": 3
   },
   "file_extension": ".py",
   "mimetype": "text/x-python",
   "name": "python",
   "nbconvert_exporter": "python",
   "pygments_lexer": "ipython3",
   "version": "3.7.4"
  },
  "latex_envs": {
   "LaTeX_envs_menu_present": true,
   "autoclose": false,
   "autocomplete": true,
   "bibliofile": "biblio.bib",
   "cite_by": "apalike",
   "current_citInitial": 1,
   "eqLabelWithNumbers": true,
   "eqNumInitial": 1,
   "hotkeys": {
    "equation": "Ctrl-E",
    "itemize": "Ctrl-I"
   },
   "labels_anchors": false,
   "latex_user_defs": false,
   "report_style_numbering": false,
   "user_envs_cfg": false
  }
 },
 "nbformat": 4,
 "nbformat_minor": 1
}
