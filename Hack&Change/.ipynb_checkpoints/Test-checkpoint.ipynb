{
 "cells": [
  {
   "cell_type": "code",
   "execution_count": 46,
   "metadata": {},
   "outputs": [],
   "source": [
    "t = [3.3, 3.1, 3.4, 5. , 3.3, 1.9, 5. , 3.1, 3.2, 2.4, 3. , 2.2, 1.8,\n",
    "       2.8, 3. , 2.1, 2.5, 3.3, 2.8, 2.8, 2.9, 3.4, 3.4, 3. , 2.5, 2.8,\n",
    "       2.6, 2.5, 1.8, 2.7, 2.5, 2.3, 1.9, 3.7, 2.2, 2.4, 2. , 3.5, 2.7,\n",
    "       3.1, 1.8, 3.1, 2.3, 2.5, 2.9, 3.3, 2.3, 2. , 2.1, 2.5, 2.5, 2.4,\n",
    "       2.5, 2.8, 2. , 2.4, 2.2, 3.1, 2.8, 3.1, 2. , 2.4, 2.2, 1.9, 2.1,\n",
    "       1.7, 1.9, 2. , 2. , 1.9, 2.2, 2. , 3.3, 2.5, 1.7, 2.4, 2.3, 2.4,\n",
    "       2.2, 2.1, 2. , 1.9, 1.8, 1.9, 2. , 3.3, 1.9, 2.5, 2.3, 1.9, 1.8,\n",
    "       1.6, 1.9, 1.8, 3. , 2.3, 2.1, 2. , 2. , 2.9, 2.4, 2.3, 1.7, 1.9,\n",
    "       2.1, 2.3, 2.3, 2.9, 2.2, 2. , 2.1, 1.9, 2. , 1.9, 2. , 1.9, 1.8,\n",
    "       1.9, 2.2, 1.9, 1.9, 2.1, 2.1, 1.4, 2.4, 2.5, 2.5, 2.3, 2.4, 2.4,\n",
    "       1.8, 2.4, 2.1, 1.9, 1.8, 1.6, 1.1, 1.6, 1.9, 2.1, 2.9, 3.2, 3.1,\n",
    "       2.2, 1.9, 1.8, 1.9, 1.7, 2. , 1.8, 2.7, 1.9, 1.9, 2. , 1.9, 1.9,\n",
    "       1.9, 2. , 1.9, 2.1, 2.2, 2.2, 2.3, 2.1, 2.2, 2. , 2.6, 2.3, 2.9,\n",
    "       2.9, 2.5, 2.3, 2.2, 2. , 2.5, 1.2, 2.4, 1.2, 2.6, 2.3, 2. , 1.8,\n",
    "       1.1, 3.1, 1.4, 1.1, 2. , 2. , 1.9, 2. , 2.1, 2.1, 2.2, 2.1, 2.3,\n",
    "       2. , 1.9, 2.1, 1.9, 1.8, 2.1, 1.8, 1.6, 1.9, 1.8, 2. , 2.1, 2.6,\n",
    "       2.2, 2.6, 1.8, 1.8, 2. , 1.1, 1.2, 3.3, 2.9, 2. , 2. , 2. , 1.9,\n",
    "       2. , 2.3, 2.2, 1.8, 1.7, 1.9, 1.2, 1.5, 2. , 1.7, 1.8, 1.6, 1.4,\n",
    "       1.8, 2.5, 1.1, 1. , 2. , 1.2, 1.2, 1.8, 2.1, 1.5, 1.9, 2.3, 2.3,\n",
    "       2. , 1.7, 2.1, 2. , 1.8, 2.1, 1.7, 2.2, 1.7, 1.2, 2.2, 1.4, 1.4,\n",
    "       2.1, 1.5, 2. , 2.2, 1.9, 1.6, 2. , 2.1, 1.5, 1.6, 2.2, 2.2, 1.4,\n",
    "       2.4, 2.3, 2.1, 2. , 2.1, 1.3, 1.6, 2.1, 1.9, 1. , 1.9, 1.9, 1.4,\n",
    "       1.3, 1.4, 2. , 1.5, 2. , 1.4, 1.6, 1.6, 2. , 1.6, 1.6, 2. , 1.4,\n",
    "       2.1, 1.4, 2. , 1.9, 1.5, 2.2, 2.2, 1.6, 2. , 2. , 1.6, 2.3, 1.2,\n",
    "       2.2, 1.6, 1.7, 1.4, 1.3, 1.4, 1.4, 1.4, 1.3, 1.8, 1.7, 1.6, 1.6,\n",
    "       1.3, 1.6, 1.4, 1.6, 1.8, 1.8, 1.6, 1.5, 1.6, 1.7, 1.6, 1.7, 1.9,\n",
    "       1.9, 1.5, 1.5, 1.7, 1.7, 1.5, 1.9]\n"
   ]
  },
  {
   "cell_type": "code",
   "execution_count": 69,
   "metadata": {},
   "outputs": [
    {
     "name": "stdout",
     "output_type": "stream",
     "text": [
      "Populating the interactive namespace from numpy and matplotlib\n"
     ]
    }
   ],
   "source": [
    "import numpy as np\n",
    "import pandas as pd\n",
    "import matplotlib.pyplot as plt\n",
    "from sklearn.metrics import classification_report\n",
    "from sklearn import model_selection\n",
    "from sklearn.ensemble import RandomForestRegressor\n",
    "from sklearn.model_selection import train_test_split\n",
    "from sklearn.metrics import mean_squared_error\n",
    "\n",
    "from utilities import visualize_classifier\n",
    "%pylab inline"
   ]
  },
  {
   "cell_type": "code",
   "execution_count": 70,
   "metadata": {},
   "outputs": [
    {
     "data": {
      "text/plain": [
       "193.90000000000003"
      ]
     },
     "execution_count": 70,
     "metadata": {},
     "output_type": "execute_result"
    }
   ],
   "source": [
    "frame = pd.read_csv('Total.csv', header=0, sep=',')\n",
    "totsum = sum(list(frame.Postamat_daily))\n",
    "totsum"
   ]
  },
  {
   "cell_type": "code",
   "execution_count": 77,
   "metadata": {},
   "outputs": [
    {
     "name": "stdout",
     "output_type": "stream",
     "text": [
      "14630000\n",
      "9695.000000000002\n",
      "290850.00000000006\n",
      "31\n"
     ]
    }
   ],
   "source": [
    "post_sum = 77*190000\n",
    "print (post_sum)\n",
    "send_sum = totsum*50\n",
    "print(send_sum)\n",
    "send_month = send_sum*30\n",
    "print(send_month)\n",
    "months  = post_sum/send_month\n",
    "post = post_sum\n",
    "month = 0\n",
    "while post>0:\n",
    "    if month == 6:\n",
    "        send_month = send_month * 4\n",
    "    post = post - send_month + 5000*77\n",
    "    month = month + 1\n",
    "print (month)"
   ]
  },
  {
   "cell_type": "code",
   "execution_count": null,
   "metadata": {},
   "outputs": [],
   "source": []
  }
 ],
 "metadata": {
  "kernelspec": {
   "display_name": "Python 3",
   "language": "python",
   "name": "python3"
  }
 },
 "nbformat": 4,
 "nbformat_minor": 2
}
